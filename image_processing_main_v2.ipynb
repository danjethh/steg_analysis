{
  "cells": [
    {
      "cell_type": "markdown",
      "metadata": {
        "id": "view-in-github",
        "colab_type": "text"
      },
      "source": [
        "<a href=\"https://colab.research.google.com/github/danjethh/steg_analysis/blob/main/image_processing_main_v2.ipynb\" target=\"_parent\"><img src=\"https://colab.research.google.com/assets/colab-badge.svg\" alt=\"Open In Colab\"/></a>"
      ]
    },
    {
      "cell_type": "code",
      "source": [
        "!pip install PyWavelets"
      ],
      "metadata": {
        "id": "e7vAJb1yFJ5H"
      },
      "execution_count": null,
      "outputs": []
    },
    {
      "cell_type": "code",
      "source": [
        "import numpy as np\n",
        "from scipy import ndimage\n",
        "from scipy.stats import pearsonr\n",
        "import pywt\n",
        "from skimage.io import imread\n",
        "import os\n",
        "import matplotlib.pyplot as plt\n",
        "import requests\n",
        "from io import BytesIO\n",
        "from PIL import Image"
      ],
      "metadata": {
        "id": "WuHf0zd8AOkd"
      },
      "execution_count": null,
      "outputs": []
    },
    {
      "cell_type": "code",
      "source": [
        "\n",
        "# Step 1: Show the Picture with Its Image Description and Metadata\n",
        "# Load an image from a URL\n",
        "image_url = \"https://raw.githubusercontent.com/Sourish1997/steganalysis/master/bossbase_lsb_sample/14.pgm\"\n",
        "response = requests.get(image_url)\n",
        "img = Image.open(BytesIO(response.content))\n",
        "\n",
        "# Display the image\n",
        "plt.figure(figsize=(5, 5))\n",
        "plt.imshow(img, cmap='gray')\n",
        "plt.title('Original Image')\n",
        "plt.axis('off')\n",
        "plt.show()\n",
        "\n",
        "# Display image metadata\n",
        "print(\"Image Metadata:\")\n",
        "print(f\"Format: {img.format}\")\n",
        "print(f\"Size: {img.size}\")\n",
        "print(f\"Mode: {img.mode}\")"
      ],
      "metadata": {
        "id": "HykCcO_IAMIW"
      },
      "execution_count": null,
      "outputs": []
    },
    {
      "cell_type": "code",
      "source": [
        "# Step 2: Show the Pixel Number Array and Pixel Intensity Distribution\n",
        "# Convert image to grayscale array\n",
        "img_array = np.array(img)\n",
        "\n",
        "# Display the pixel array\n",
        "print(\"Pixel Number Array:\")\n",
        "print(img_array)\n",
        "\n",
        "# Plotting pixel intensity histogram\n",
        "plt.figure(figsize=(6, 4))\n",
        "plt.hist(img_array.ravel(), bins=256, color='blue', alpha=0.7)\n",
        "plt.title('Pixel Intensity Distribution')\n",
        "plt.xlabel('Pixel Intensity')\n",
        "plt.ylabel('Frequency')\n",
        "plt.show()"
      ],
      "metadata": {
        "id": "VnJPoOk6CMjT"
      },
      "execution_count": null,
      "outputs": []
    },
    {
      "cell_type": "code",
      "source": [
        "# Step 3: Show the Bit Distribution of the Image\n",
        "# Display the bit representation of pixel values\n",
        "bit_representation = np.vectorize(np.binary_repr)(img_array, width=8)\n",
        "print(\"Bit Representation of Pixel Array:\")\n",
        "print(bit_representation)\n",
        "\n",
        "# Visualizing the bit distribution\n",
        "fig, ax = plt.subplots(figsize=(8, 6))\n",
        "ax.imshow(np.array([[int(bit, 2) for bit in row] for row in bit_representation]), cmap='gray')\n",
        "plt.title('Bit Distribution Visualization')\n",
        "plt.axis('off')\n",
        "plt.show()"
      ],
      "metadata": {
        "id": "p6jskBz7DL-U"
      },
      "execution_count": null,
      "outputs": []
    },
    {
      "cell_type": "code",
      "source": [
        "# Step 4: Manipulate the Image using LSB Replacement to Create a Stego Image\n",
        "# Define a hidden message and embed it using LSB replacement\n",
        "message = \"Secret\"\n",
        "print(f\"Hidden Message: {message}\")\n",
        "\n",
        "# Convert message to binary\n",
        "message_bits = ''.join([format(ord(char), '08b') for char in message])\n",
        "print(f\"Message in Binary: {message_bits}\")\n",
        "\n",
        "# Function to embed the message into the image using LSB replacement\n",
        "def embed_message(image_array, message_bits):\n",
        "    flat_image = image_array.flatten()\n",
        "    for i in range(len(message_bits)):\n",
        "        flat_image[i] = (flat_image[i] & ~1) | int(message_bits[i])\n",
        "    return flat_image.reshape(image_array.shape)\n",
        "\n",
        "# Embed the message into the image\n",
        "stego_image_array = embed_message(img_array, message_bits)\n",
        "\n",
        "# Display the stego image\n",
        "plt.figure(figsize=(5, 5))\n",
        "plt.imshow(stego_image_array, cmap='gray')\n",
        "plt.title('Stego Image')\n",
        "plt.axis('off')\n",
        "plt.show()\n",
        "\n",
        "# Show the bit distribution of the stego image\n",
        "stego_bit_representation = np.vectorize(np.binary_repr)(stego_image_array, width=8)\n",
        "print(\"Bit Representation of Stego Image Pixel Array:\")\n",
        "print(stego_bit_representation)"
      ],
      "metadata": {
        "id": "lPIG6hEQEupo"
      },
      "execution_count": null,
      "outputs": []
    }
  ],
  "metadata": {
    "colab": {
      "name": "Welcome To Colab",
      "toc_visible": true,
      "provenance": [],
      "include_colab_link": true
    },
    "kernelspec": {
      "display_name": "Python 3",
      "name": "python3"
    }
  },
  "nbformat": 4,
  "nbformat_minor": 0
}